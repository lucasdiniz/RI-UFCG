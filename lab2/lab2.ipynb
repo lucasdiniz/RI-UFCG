{
 "cells": [
  {
   "cell_type": "markdown",
   "metadata": {},
   "source": [
    "### Laboratório 1 - Parte 2\n",
    "\n",
    "Nesse lab iremos implementar diversas instaciações do modelo vetorial e comparar os resultados com através da métrica MAP.\n",
    "\n",
    "Instanciações implementadas:\n",
    "\n",
    "1. Busca binária: Os documentos retornados são aqueles que tem maior match com as palavras da query.\n",
    "2. TF: Os documentos retornados são aqueles que tem uma maior quantidade das palavras presentes da query.\n",
    "3. TF-IDF: Similar ao TF mais aplica penalizações as palavras que aparecem em muitos documentos.\n",
    "4. BM-25 (sem okapi): Incrementa o TF-IDF limitando o número de vezes (k) que uma palavra pode afetar significativamente a posição de um documento."
   ]
  },
  {
   "cell_type": "code",
   "execution_count": 116,
   "metadata": {},
   "outputs": [],
   "source": [
    "import csv\n",
    "import sys\n",
    "import nltk\n",
    "from math import log\n",
    "\n",
    "EMPTY_LIST  = []\n",
    "TITLE = 1\n",
    "SUBTITLE = 2\n",
    "CONTENT = 3\n",
    "URL = 4\n",
    "ID = 5\n",
    "class inverted_index:\n",
    "    \n",
    "    BINARY_SEARCH = 1\n",
    "    TF_SEARCH = 2\n",
    "    TF_IDF_SEARCH = 3\n",
    "    BM25_SEARCH = 4\n",
    "\n",
    "    \n",
    "    def __init__(self):\n",
    "        self.invertedIndex = {}\n",
    "        self.articles = {}\n",
    "        self.rawData = self.readData()\n",
    "        TOTAL_DOCUMENTS = len(self.rawData)\n",
    "        self.buildInvertedIndex(self.rawData)\n",
    "    \n",
    "    def readData(self):\n",
    "        \"\"\"\"Obtains the data from the csv file and returns it as a \n",
    "        list of articles, each of them containing title, content and id\"\"\"\n",
    "        data = []\n",
    "        with open('estadao_noticias_eleicao.csv', 'rt', encoding='utf-8') as csvFile:\n",
    "            text = [line for line in csv.reader(csvFile, delimiter=',', quotechar='\"')]\n",
    "        return text\n",
    "\n",
    "\n",
    "    def buildInvertedIndex(self, rawData):\n",
    "        for article in rawData[1:]:\n",
    "            \n",
    "            timestamp, titulo, subtitulo, conteudo, url, idNoticia = article\n",
    "            idNoticia = int(idNoticia)\n",
    "            data = nltk.word_tokenize( ' '.join(article[:-1]).lower() )\n",
    "            \n",
    "        \n",
    "            self.addEntriesToIndex(titulo, idNoticia)\n",
    "            self.addEntriesToIndex(conteudo, idNoticia)\n",
    "            self.addEntriesToIndex(url, idNoticia)\n",
    "            \n",
    "        return self.invertedIndex\n",
    "\n",
    "\n",
    "    def addEntriesToIndex(self, newsString, articleId):\n",
    "        for word in newsString.split():\n",
    "            word = word.lower()\n",
    "        #    if keyword not in self.invertedIndex:\n",
    "        #        self.invertedIndex[keyword] = []\n",
    "        #    self.invertedIndex[keyword].append(articleId)\n",
    "            if (word in self.invertedIndex) and (articleId in self.invertedIndex[word]):\n",
    "                self.invertedIndex[word][articleId] += 1\n",
    "            elif (word in self.invertedIndex) and not (articleId in self.invertedIndex[word]):\n",
    "                self.invertedIndex[word][articleId] = 1\n",
    "            else:\n",
    "                self.invertedIndex[word] = {articleId: 1}\n",
    "                \n",
    "    def search(self, query, mode = BINARY_SEARCH ):\n",
    "        \n",
    "        query, result = query.lower(), []\n",
    "\n",
    "        if (mode == self.BINARY_SEARCH):    result = self.binarySearch(query)\n",
    "        elif (mode == self.TF_SEARCH):      result = self.tfSearch(query)\n",
    "        elif (mode == self.TF_IDF_SEARCH):  result = self.tfIdfSearch(query)\n",
    "        elif (mode == self.BM25_SEARCH):    result = self.bm25Search(query)\n",
    "\n",
    "        return result[:5] if (len(result) > 5) else result\n",
    "        \n",
    "    def binarySearch(self, query):\n",
    "        \n",
    "        for _word in nltk.word_tokenize(query):\n",
    "            matchedDocs = {}\n",
    "            if _word in self.invertedIndex:\n",
    "                matches = set(self.invertedIndex[_word].keys())\n",
    "                matchedDocs = matches if len(matchedDocs) == 0 else matchedDocs.intersection(matches)\n",
    "                \n",
    "        weightedDocs = [(docId, self.get_bin(docId, query)) for docId in matchedDocs]\n",
    " \n",
    "        return [e[0] for e in sorted(weightedDocs, key= lambda x: x[1], reverse = True)]\n",
    "    \n",
    "    \n",
    "    \n",
    "    def tfSearch(self, query):\n",
    "        docs = set([docId for w in query.split() for docId in self.invertedIndex[w].keys() if w in self.invertedIndex])\n",
    "        docs = [(docId, self.get_tf(docId, query)) for docId in docs ]\n",
    "        return [e[0] for e in sorted(docs, key= lambda x: x[1], reverse = True)]\n",
    "\n",
    "    def tfIdfSearch(self, query):\n",
    "        docs = self.binarySearch(query)\n",
    "        docs = [(docId, self.get_tf_idf(docId, query)) for docId in docs ]\n",
    "        return [e[0] for e in sorted(docs, key= lambda x: x[1], reverse = True)]\n",
    "\n",
    "    def bm25Search(self, query):\n",
    "        docs = self.binarySearch(query)\n",
    "        docs = [(docId, self.get_bm25(docId, query)) for docId in docs ]\n",
    "        return [e[0] for e in sorted(docs, key= lambda x: x[1], reverse = True)]\n",
    "    \n",
    "    def get_bin(self, dId, query):\n",
    "\n",
    "        return sum(1 for w in nltk.word_tokenize(query) if dId in self.invertedIndex[w])\n",
    "    \n",
    "    def get_tf(self, dId, query):\n",
    "        return sum(self.invertedIndex[w][dId] for w in nltk.word_tokenize(query) if dId in self.invertedIndex[w])\n",
    "\n",
    "    \n",
    "    def get_tf_idf(self, dId, query):\n",
    "\n",
    "        out = 0\n",
    "        \n",
    "        for w in nltk.word_tokenize(query):\n",
    "            if dId in self.invertedIndex[w]:\n",
    "                tf = self.invertedIndex[w][dId]\n",
    "                idf = log( len(self.rawData) / tf )\n",
    "                out += query.count(w)*tf*idf\n",
    "        return out\n",
    "\n",
    "    def get_bm25(self, dId, query):\n",
    "        out = 0\n",
    "        for w in nltk.word_tokenize(query):\n",
    "            k = 5\n",
    "            if dId in self.invertedIndex[w]:\n",
    "                tf = self.invertedIndex[w][dId]\n",
    "                bmWeight = ((k+1)*tf)/(tf + k)\n",
    "                idf = log( len(self.rawData) / len(self.invertedIndex[w]) )\n",
    "                out += query.count(w)*bmWeight*idf\n",
    "                return out\n",
    "    \n",
    "    def getArticles(self, idList):\n",
    "        articles = []\n",
    "        for id in idList:\n",
    "            articles.append(self.articles[id])\n",
    "        return articles\n",
    "    \n",
    "    "
   ]
  },
  {
   "cell_type": "code",
   "execution_count": 117,
   "metadata": {},
   "outputs": [],
   "source": [
    "idx = inverted_index()"
   ]
  },
  {
   "cell_type": "markdown",
   "metadata": {},
   "source": [
    "### Observando os resultados\n",
    "\n",
    "Para avaliar o resultado do nosso modelo vetorial iremos utilizar a metrica mapk para comparar nossos resultados com o do gabarito. 0 é o pior resultado e 1 é o melhor resultado"
   ]
  },
  {
   "cell_type": "code",
   "execution_count": 118,
   "metadata": {},
   "outputs": [
    {
     "name": "stdout",
     "output_type": "stream",
     "text": [
      "MAP  = 0.6 para binarySearch com query = segundo turno\n",
      "MAP  = 0.05 para binarySearch com query = lava jato\n",
      "MAP  = 0.4 para binarySearch com query = projeto de lei\n",
      "MAP  = 0.06666666666666667 para binarySearch com query = compra de voto\n",
      "MAP  = 0.4 para binarySearch com query = ministério público\n"
     ]
    }
   ],
   "source": [
    "from metrics import mapk\n",
    "\n",
    "gabaritoFile = open('gabarito.csv', 'r', encoding='utf-8')\n",
    "gabaritoLines = [line for line in csv.reader(gabaritoFile, delimiter=',', quotechar='\"')]\n",
    "\n",
    "for query, google, busca_binaria, tf, tfidf, bm25 in gabaritoLines[1:]:\n",
    "    #busca_binaria = ast.literal_eval(busca_binaria)\n",
    "    #print(len(busca_binaria))\n",
    "    val = mapk([eval(busca_binaria)], [idx.search(query)], k=5)\n",
    "    print(\"MAP  = {1} para binarySearch com query = {0}\".format(query, val))"
   ]
  },
  {
   "cell_type": "code",
   "execution_count": 119,
   "metadata": {},
   "outputs": [
    {
     "name": "stdout",
     "output_type": "stream",
     "text": [
      "MAP  = 0.8 para TF com query = segundo turno\n",
      "MAP  = 0.52 para TF com query = lava jato\n",
      "MAP  = 0.42000000000000004 para TF com query = projeto de lei\n",
      "MAP  = 0.13 para TF com query = compra de voto\n",
      "MAP  = 0.8 para TF com query = ministério público\n"
     ]
    }
   ],
   "source": [
    "for query, google, busca_binaria, tf, tfidf, bm25 in gabaritoLines[1:]:\n",
    "    val = mapk([eval( tf )], [idx.search(query, inverted_index.TF_SEARCH)], k=5)\n",
    "    print(\"MAP  = {1} para TF com query = {0}\".format(query, val))"
   ]
  },
  {
   "cell_type": "code",
   "execution_count": 120,
   "metadata": {},
   "outputs": [
    {
     "name": "stdout",
     "output_type": "stream",
     "text": [
      "MAP  = 0.4833333333333333 para TF-IDF com query = segundo turno\n",
      "MAP  = 0.52 para TF-IDF com query = lava jato\n",
      "MAP  = 0.05 para TF-IDF com query = projeto de lei\n",
      "MAP  = 0.3 para TF-IDF com query = compra de voto\n",
      "MAP  = 0.8 para TF-IDF com query = ministério público\n"
     ]
    }
   ],
   "source": [
    "for query, google, busca_binaria, tf, tfidf, bm25 in gabaritoLines[1:]:\n",
    "    val = mapk([eval( tfidf )], [idx.search(query, inverted_index.TF_IDF_SEARCH)], k=5)\n",
    "    print(\"MAP  = {1} para TF-IDF com query = {0}\".format(query, val))"
   ]
  },
  {
   "cell_type": "code",
   "execution_count": 121,
   "metadata": {},
   "outputs": [
    {
     "name": "stdout",
     "output_type": "stream",
     "text": [
      "MAP  = 0.0 para BM25 com query = segundo turno\n",
      "MAP  = 0.8 para BM25 com query = lava jato\n",
      "MAP  = 0.8 para BM25 com query = projeto de lei\n",
      "MAP  = 0.8 para BM25 com query = compra de voto\n",
      "MAP  = 0.8 para BM25 com query = ministério público\n"
     ]
    }
   ],
   "source": [
    "for query, google, busca_binaria, tf, tfidf, bm25 in gabaritoLines[1:]:\n",
    "    val = mapk([eval( bm25 )], [idx.search(query, inverted_index.BM25_SEARCH)], k=5)\n",
    "    print(\"MAP  = {1} para BM25 com query = {0}\".format(query, val))"
   ]
  },
  {
   "cell_type": "markdown",
   "metadata": {},
   "source": [
    "### Comparando com os resultados do google\n",
    "\n",
    "Abaixo podemos comparar os resultados que obtivemos da nossa implementação do modelo veto com os do google."
   ]
  },
  {
   "cell_type": "code",
   "execution_count": 122,
   "metadata": {},
   "outputs": [
    {
     "name": "stdout",
     "output_type": "stream",
     "text": [
      "MAP  = 0.0 para query = segundo turno\n",
      "MAP  = 0.0 para query = segundo turno\n",
      "MAP  = 0.0 para query = segundo turno\n",
      "MAP  = 0.0 para query = segundo turno\n",
      "MAP  = 0.0 para query = lava jato\n",
      "MAP  = 0.04 para query = lava jato\n",
      "MAP  = 0.0 para query = lava jato\n",
      "MAP  = 0.2 para query = lava jato\n",
      "MAP  = 0.0 para query = projeto de lei\n",
      "MAP  = 0.0 para query = projeto de lei\n",
      "MAP  = 0.0 para query = projeto de lei\n",
      "MAP  = 0.16666666666666666 para query = projeto de lei\n",
      "MAP  = 0.3 para query = compra de voto\n",
      "MAP  = 0.0 para query = compra de voto\n",
      "MAP  = 0.0 para query = compra de voto\n",
      "MAP  = 0.04 para query = compra de voto\n",
      "MAP  = 0.0 para query = ministério público\n",
      "MAP  = 0.05 para query = ministério público\n",
      "MAP  = 0.05 para query = ministério público\n",
      "MAP  = 0.0 para query = ministério público\n"
     ]
    }
   ],
   "source": [
    "for query, google, busca_binaria, tf, tfidf, bm25 in gabaritoLines[1:]:\n",
    "    modes = [inverted_index.BINARY_SEARCH, inverted_index.TF_SEARCH, inverted_index.TF_IDF_SEARCH, inverted_index.BM25_SEARCH]\n",
    "    for mode in modes:\n",
    "        val = mapk([eval( google )], [idx.search(query, mode)], k=5)\n",
    "        print(\"MAP  = {1} para query = {0}\".format(query, val))"
   ]
  },
  {
   "cell_type": "code",
   "execution_count": null,
   "metadata": {},
   "outputs": [],
   "source": []
  }
 ],
 "metadata": {
  "kernelspec": {
   "display_name": "Python 3",
   "language": "python",
   "name": "python3"
  },
  "language_info": {
   "codemirror_mode": {
    "name": "ipython",
    "version": 3
   },
   "file_extension": ".py",
   "mimetype": "text/x-python",
   "name": "python",
   "nbconvert_exporter": "python",
   "pygments_lexer": "ipython3",
   "version": "3.6.5"
  }
 },
 "nbformat": 4,
 "nbformat_minor": 2
}
