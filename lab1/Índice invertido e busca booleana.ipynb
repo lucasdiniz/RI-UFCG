{
 "cells": [
  {
   "cell_type": "code",
   "execution_count": 138,
   "metadata": {},
   "outputs": [],
   "source": [
    "import csv"
   ]
  },
  {
   "cell_type": "markdown",
   "metadata": {},
   "source": [
    "## Laboratório 01 - Parte 1 - Recuperação da informação 2018.1\n",
    "\n",
    "Nesse lab serão abordados os conceitos de indíce invertido e busca booleana, iremos construir um índice invertido utilizando um dataset com dados de notícias obtidos do jornal online estadão.\n",
    "\n",
    "##### Leitura dos dados\n",
    "\n",
    "Primeiramente vamos importar os dados do arquivo csv, processa-los e retorna-los no formato de uma lista de listas onde cada lista contém três campos: titulo, conteudo e o id da noticia.\n"
   ]
  },
  {
   "cell_type": "code",
   "execution_count": 139,
   "metadata": {},
   "outputs": [],
   "source": [
    "EMPTY_LIST = []\n",
    "TITLE = 0\n",
    "CONTENT = 1\n",
    "ID = 2\n",
    "\n",
    "def readData():\n",
    "    \"\"\"\"Obtains the data from the csv file and returns it as a \n",
    "    list of articles, each of them containing title, content and id\"\"\"\n",
    "    data = []\n",
    "    with open('noticias_estadao.csv', 'rt') as csvFile:\n",
    "        text = csv.reader(csvFile, delimiter=',')\n",
    "        lineIdx = 0\n",
    "        for line in text:\n",
    "            if lineIdx >= 1:\n",
    "                data.append(','.join(line).lower().split(','))\n",
    "            lineIdx += 1\n",
    "    return data        "
   ]
  },
  {
   "cell_type": "markdown",
   "metadata": {},
   "source": [
    "##### Construindo o índice\n",
    "\n",
    "Agora que já temos os dados podemos construir o nosso índice, a estrutura de dados escolhida para o índice foi uma tabela hash onde as chaves da tabela são os termos individuais presentes nas notícias e os valores são listas com os ids das notícias que possuem aquele termo.\n",
    "\n",
    "Tal estruturação dos dados nos permite realizar consultas lógicas facilmente, podemos consultar por exemplo quais documentos possuem <termo1> E <termo2>, <termo1> OU <termo2> e até mesmo consultas conjutivas que retornam todos os documentos que satisfazem o AND de todos os termos especificados.\n"
   ]
  },
  {
   "cell_type": "code",
   "execution_count": 140,
   "metadata": {},
   "outputs": [],
   "source": [
    "def buildInvertedIndex(rawData):\n",
    "    invertedIndex = {}\n",
    "    for article in rawData:\n",
    "        addEntriesToIndex(invertedIndex, article[TITLE], article[ID])\n",
    "        addEntriesToIndex(invertedIndex, article[CONTENT], article[ID])\n",
    "    return invertedIndex"
   ]
  },
  {
   "cell_type": "markdown",
   "metadata": {},
   "source": [
    "##### Adicionando entradas\n",
    "\n",
    "Temos uma função auxiliar para lidar com a adição de novas entradas no índice. As palavras são separadas e adicionadas no índice.\n"
   ]
  },
  {
   "cell_type": "code",
   "execution_count": 141,
   "metadata": {},
   "outputs": [],
   "source": [
    "\n",
    "def addEntriesToIndex(invertedIndex, newsString, articleId):\n",
    "    \"\"\"Processes a string extracting the individual words from it \n",
    "    and adds <word, list(articleIds)> as a <key, value> pair in the HashMap\"\"\"\n",
    "    for keyword in newsString.split():\n",
    "        if keyword not in invertedIndex:\n",
    "            invertedIndex[keyword] = []\n",
    "        invertedIndex[keyword].append(articleId)\n"
   ]
  },
  {
   "cell_type": "markdown",
   "metadata": {},
   "source": [
    "##### Consultas\n",
    "\n",
    "Agora que já construímos o índice podemos realizar nossas consultas da seguinte forma:\n",
    "\n",
    "1 - Recuperamos as listas de ids referentes aos termos que queremos buscar<br>\n",
    "2 - Realizamos a intersecção ou união dessas listas dependendo de qual consulta queremos realizar<br>\n",
    "3 - Retornamos o resultado<br>\n"
   ]
  },
  {
   "cell_type": "code",
   "execution_count": 142,
   "metadata": {},
   "outputs": [],
   "source": [
    "\n",
    "def searchOne(invertedIndex, term):\n",
    "    \"\"\"Searches for a specific term in the index and\n",
    "    returns a list with the relevant article's ids.\"\"\"\n",
    "    return list(set(invertedIndex[term]))\n",
    "\n",
    "def searchAnd(invertedIndex, term1, term2):\n",
    "    \"\"\"Searches for documents containing both term1 and term2\n",
    "    and returns a list with the relevant article's ids.\"\"\"\n",
    "    return list(\n",
    "        set(invertedIndex.get(term1.lower(), EMPTY_LIST)) & \n",
    "        set(invertedIndex.get(term2.lower(), EMPTY_LIST))\n",
    "    )\n",
    "\n",
    "def searchOr(invertedIndex, term1, term2):\n",
    "    \"\"\"Searches for documents containing term1 or term2\n",
    "    and returns a list with the relevant article's ids.\"\"\"\n",
    "    return list(\n",
    "        set(invertedIndex.get(term1.lower(), EMPTY_LIST)) | \n",
    "        set(invertedIndex.get(term2.lower(), EMPTY_LIST))\n",
    "    )"
   ]
  },
  {
   "cell_type": "markdown",
   "metadata": {},
   "source": [
    "##### Asserts\n",
    "\n",
    "Podemos verificar a corretude desta implementação através dos asserts abaixo\n"
   ]
  },
  {
   "cell_type": "code",
   "execution_count": 143,
   "metadata": {},
   "outputs": [
    {
     "name": "stdout",
     "output_type": "stream",
     "text": [
      "Finished. No assertion errors found\n"
     ]
    }
   ],
   "source": [
    "\n",
    "def main():\n",
    "    rawData = readData()\n",
    "    invertedIndex = buildInvertedIndex(rawData)\n",
    "    \n",
    "    #### ASSERTS ####\n",
    "    \n",
    "    assert len(searchAnd(invertedIndex, \"bolsonaro\", \"corrupto\")) == 0\n",
    "    assert len(searchAnd(invertedIndex, \"bolsonaro\", \"corrupção\")) == 0\n",
    "    \n",
    "     #campina, grande (AND)\n",
    "    assert len(searchAnd(invertedIndex, \"campina\", \"grande\")) == 12\n",
    "\n",
    "    #debate, presidencial (AND e OR)\n",
    "    assert len(searchOr(invertedIndex, \"debate\", \"presidencial\")) == 1770\n",
    "    assert len(searchAnd(invertedIndex, \"debate\", \"presidencial\")) == 201\n",
    "\n",
    "\n",
    "    #presidenciáveis, corruptos (AND e OR)\n",
    "    assert len(searchOr(invertedIndex, \"presidenciáveis\", \"corruptos\")) == 164\n",
    "    assert len(searchAnd(invertedIndex, \"presidenciáveis\", \"corruptos\")) == 0\n",
    "\n",
    "    #Belo, Horizonte (AND e OR)\n",
    "    assert len(searchOr(invertedIndex, \"Belo\", \"Horizonte\")) == 331\n",
    "    assert len(searchAnd(invertedIndex, \"Belo\", \"Horizonte\")) == 242\n",
    "    \n",
    "    print(\"Finished. No assertion errors found\")  \n",
    "        \n",
    "        \n",
    "if __name__ == \"__main__\":\n",
    "    main()"
   ]
  }
 ],
 "metadata": {
  "kernelspec": {
   "display_name": "Python 3",
   "language": "python",
   "name": "python3"
  },
  "language_info": {
   "codemirror_mode": {
    "name": "ipython",
    "version": 3
   },
   "file_extension": ".py",
   "mimetype": "text/x-python",
   "name": "python",
   "nbconvert_exporter": "python",
   "pygments_lexer": "ipython3",
   "version": "3.6.5"
  }
 },
 "nbformat": 4,
 "nbformat_minor": 2
}
